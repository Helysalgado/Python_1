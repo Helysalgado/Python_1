{
 "cells": [
  {
   "cell_type": "code",
   "execution_count": 1,
   "source": [
    "msg = \"helo world\"\n",
    "print(msg)"
   ],
   "outputs": [
    {
     "output_type": "stream",
     "name": "stdout",
     "text": [
      "helo world\n"
     ]
    }
   ],
   "metadata": {}
  },
  {
   "cell_type": "code",
   "execution_count": 2,
   "source": [
    "msg = \"hello world\"\n",
    "print(msg)"
   ],
   "outputs": [
    {
     "output_type": "stream",
     "name": "stdout",
     "text": [
      "hello world\n"
     ]
    }
   ],
   "metadata": {}
  },
  {
   "cell_type": "code",
   "execution_count": 3,
   "source": [
    "import numpy as np\n",
    ""
   ],
   "outputs": [],
   "metadata": {}
  },
  {
   "cell_type": "code",
   "execution_count": 4,
   "source": [
    "np.square(3+4)\n",
    ""
   ],
   "outputs": [
    {
     "output_type": "execute_result",
     "data": {
      "text/plain": [
       "49"
      ]
     },
     "metadata": {},
     "execution_count": 4
    }
   ],
   "metadata": {}
  },
  {
   "cell_type": "code",
   "execution_count": 5,
   "source": [
    "class person():\n",
    "    species = \"Homo Sapiens\"\n",
    "    job = \"Estudiante\"\n",
    "    alive = True\n",
    "\n",
    "    def __init__(self,name,age,hobby):\n",
    "        self.name = name\n",
    "        self.age = age\n",
    "        self.hobby = hobby\n",
    "    \n",
    "    def duplicate(self):\n",
    "        self.age *= 2\n",
    "    def reborn(self):\n",
    "        self.age = 0\n",
    "    def die(self):\n",
    "        self.alive = False\n",
    "    def mature(self):\n",
    "        self.age = 18\n",
    "        self.hobby = \"voleibol\"\n",
    "        self.job = \"Genomic Sciences\"\n",
    "    def elder(self):\n",
    "        self.age = 60\n",
    "\n",
    "class genomics(person):\n",
    "    graduated = False\n",
    "    school = \"UNAM\"\n",
    "\n",
    "    def __init__(self, name, age, hobby, lab):\n",
    "        super(person).__init__(self, name, age, hobby)\n",
    "        self.lab = lab\n",
    "    \n",
    "    def scholarship(self):\n",
    "        self.lab = \"INMEGEN\"\n",
    "        self.age = 25\n",
    "        self.hobby = \"Tennis\"\n",
    "\n",
    "Bernardo = person(\"Bernardo\",14,\"painting\")\n",
    "Liam = person(\"Liam\",15,\"gym rat\")\n",
    "Diego = genomics(\"Diego\",19,\"gym rat\",\"Protein synthesis\")\n",
    "\n",
    "print\n",
    "    \n",
    ""
   ],
   "outputs": [
    {
     "output_type": "error",
     "ename": "TypeError",
     "evalue": "super() takes at most 2 arguments (4 given)",
     "traceback": [
      "\u001b[1;31m---------------------------------------------------------------------------\u001b[0m",
      "\u001b[1;31mTypeError\u001b[0m                                 Traceback (most recent call last)",
      "Cell \u001b[1;32mIn[5], line 39\u001b[0m\n\u001b[0;32m     37\u001b[0m Bernardo \u001b[39m=\u001b[39m person(\u001b[39m\"\u001b[39m\u001b[39mBernardo\u001b[39m\u001b[39m\"\u001b[39m,\u001b[39m14\u001b[39m,\u001b[39m\"\u001b[39m\u001b[39mpainting\u001b[39m\u001b[39m\"\u001b[39m)\n\u001b[0;32m     38\u001b[0m Liam \u001b[39m=\u001b[39m person(\u001b[39m\"\u001b[39m\u001b[39mLiam\u001b[39m\u001b[39m\"\u001b[39m,\u001b[39m15\u001b[39m,\u001b[39m\"\u001b[39m\u001b[39mgym rat\u001b[39m\u001b[39m\"\u001b[39m)\n\u001b[1;32m---> 39\u001b[0m Diego \u001b[39m=\u001b[39m genomics(\u001b[39m\"\u001b[39;49m\u001b[39mDiego\u001b[39;49m\u001b[39m\"\u001b[39;49m,\u001b[39m19\u001b[39;49m,\u001b[39m\"\u001b[39;49m\u001b[39mgym rat\u001b[39;49m\u001b[39m\"\u001b[39;49m,\u001b[39m\"\u001b[39;49m\u001b[39mProtein synthesis\u001b[39;49m\u001b[39m\"\u001b[39;49m)\n\u001b[0;32m     41\u001b[0m \u001b[39mprint\u001b[39m\n",
      "Cell \u001b[1;32mIn[5], line 29\u001b[0m, in \u001b[0;36mgenomics.__init__\u001b[1;34m(self, name, age, hobby, lab)\u001b[0m\n\u001b[0;32m     28\u001b[0m \u001b[39mdef\u001b[39;00m \u001b[39m__init__\u001b[39m(\u001b[39mself\u001b[39m, name, age, hobby, lab):\n\u001b[1;32m---> 29\u001b[0m     \u001b[39msuper\u001b[39;49m(person)\u001b[39m.\u001b[39;49m\u001b[39m__init__\u001b[39;49m(\u001b[39mself\u001b[39;49m, name, age, hobby)\n\u001b[0;32m     30\u001b[0m     \u001b[39mself\u001b[39m\u001b[39m.\u001b[39mlab \u001b[39m=\u001b[39m lab\n",
      "\u001b[1;31mTypeError\u001b[0m: super() takes at most 2 arguments (4 given)"
     ]
    }
   ],
   "metadata": {}
  },
  {
   "cell_type": "code",
   "execution_count": 6,
   "source": [
    "class person():\n",
    "    species = \"Homo Sapiens\"\n",
    "    job = \"Estudiante\"\n",
    "    alive = True\n",
    "\n",
    "    def __init__(self,name,age,hobby):\n",
    "        self.name = name\n",
    "        self.age = age\n",
    "        self.hobby = hobby\n",
    "    \n",
    "    def duplicate(self):\n",
    "        self.age *= 2\n",
    "    def reborn(self):\n",
    "        self.age = 0\n",
    "    def die(self):\n",
    "        self.alive = False\n",
    "    def mature(self):\n",
    "        self.age = 18\n",
    "        self.hobby = \"voleibol\"\n",
    "        self.job = \"Genomic Sciences\"\n",
    "    def elder(self):\n",
    "        self.age = 60\n",
    "\n",
    "class genomics(person):\n",
    "    graduated = False\n",
    "    school = \"UNAM\"\n",
    "\n",
    "    def __init__(self, name, age, hobby, lab):\n",
    "        person.__init__(self, name, age, hobby)\n",
    "        self.lab = lab\n",
    "    \n",
    "    def scholarship(self):\n",
    "        self.lab = \"INMEGEN\"\n",
    "        self.age = 25\n",
    "        self.hobby = \"Tennis\"\n",
    "\n",
    "Bernardo = person(\"Bernardo\",14,\"painting\")\n",
    "Liam = person(\"Liam\",15,\"gym rat\")\n",
    "Diego = genomics(\"Diego\",19,\"gym rat\",\"Protein synthesis\")\n",
    "\n",
    "print(Bernardo.age)\n",
    ""
   ],
   "outputs": [
    {
     "output_type": "stream",
     "name": "stdout",
     "text": [
      "14\n"
     ]
    }
   ],
   "metadata": {}
  },
  {
   "cell_type": "code",
   "execution_count": 7,
   "source": [
    "print(Bernardo.lab)"
   ],
   "outputs": [
    {
     "output_type": "error",
     "ename": "AttributeError",
     "evalue": "'person' object has no attribute 'lab'",
     "traceback": [
      "\u001b[1;31m---------------------------------------------------------------------------\u001b[0m",
      "\u001b[1;31mAttributeError\u001b[0m                            Traceback (most recent call last)",
      "Cell \u001b[1;32mIn[7], line 1\u001b[0m\n\u001b[1;32m----> 1\u001b[0m \u001b[39mprint\u001b[39m(Bernardo\u001b[39m.\u001b[39;49mlab)\n",
      "\u001b[1;31mAttributeError\u001b[0m: 'person' object has no attribute 'lab'"
     ]
    }
   ],
   "metadata": {}
  },
  {
   "cell_type": "code",
   "execution_count": 8,
   "source": [
    "class person():\n",
    "    species = \"Homo Sapiens\"\n",
    "    job = \"Estudiante\"\n",
    "    alive = True\n",
    "\n",
    "    def __init__(self,name,age,hobby):\n",
    "        self.name = name\n",
    "        self.age = age\n",
    "        self.hobby = hobby\n",
    "    \n",
    "    def duplicate(self):\n",
    "        self.age *= 2\n",
    "    def reborn(self):\n",
    "        self.age = 0\n",
    "    def die(self):\n",
    "        self.alive = False\n",
    "    def mature(self):\n",
    "        self.age = 18\n",
    "        self.hobby = \"voleibol\"\n",
    "        self.job = \"Genomic Sciences\"\n",
    "    def elder(self):\n",
    "        self.age = 60\n",
    "\n",
    "class genomics(person):\n",
    "    graduated = False\n",
    "    school = \"UNAM\"\n",
    "\n",
    "    def __init__(self, name, age, hobby, lab):\n",
    "        super(person).__init__(self, name, age, hobby)\n",
    "        self.lab = lab\n",
    "    \n",
    "    def scholarship(self):\n",
    "        self.lab = \"INMEGEN\"\n",
    "        self.age = 25\n",
    "        self.hobby = \"Tennis\"\n",
    "\n",
    "Bernardo = person(\"Bernardo\",14,\"painting\")\n",
    "Liam = person(\"Liam\",15,\"gym rat\")\n",
    "Diego = genomics(\"Diego\",19,\"gym rat\",\"Protein synthesis\")\n",
    "\n",
    "print"
   ],
   "outputs": [
    {
     "output_type": "error",
     "ename": "TypeError",
     "evalue": "super() takes at most 2 arguments (4 given)",
     "traceback": [
      "\u001b[1;31m---------------------------------------------------------------------------\u001b[0m",
      "\u001b[1;31mTypeError\u001b[0m                                 Traceback (most recent call last)",
      "Cell \u001b[1;32mIn[8], line 39\u001b[0m\n\u001b[0;32m     37\u001b[0m Bernardo \u001b[39m=\u001b[39m person(\u001b[39m\"\u001b[39m\u001b[39mBernardo\u001b[39m\u001b[39m\"\u001b[39m,\u001b[39m14\u001b[39m,\u001b[39m\"\u001b[39m\u001b[39mpainting\u001b[39m\u001b[39m\"\u001b[39m)\n\u001b[0;32m     38\u001b[0m Liam \u001b[39m=\u001b[39m person(\u001b[39m\"\u001b[39m\u001b[39mLiam\u001b[39m\u001b[39m\"\u001b[39m,\u001b[39m15\u001b[39m,\u001b[39m\"\u001b[39m\u001b[39mgym rat\u001b[39m\u001b[39m\"\u001b[39m)\n\u001b[1;32m---> 39\u001b[0m Diego \u001b[39m=\u001b[39m genomics(\u001b[39m\"\u001b[39;49m\u001b[39mDiego\u001b[39;49m\u001b[39m\"\u001b[39;49m,\u001b[39m19\u001b[39;49m,\u001b[39m\"\u001b[39;49m\u001b[39mgym rat\u001b[39;49m\u001b[39m\"\u001b[39;49m,\u001b[39m\"\u001b[39;49m\u001b[39mProtein synthesis\u001b[39;49m\u001b[39m\"\u001b[39;49m)\n\u001b[0;32m     41\u001b[0m \u001b[39mprint\u001b[39m\n",
      "Cell \u001b[1;32mIn[8], line 29\u001b[0m, in \u001b[0;36mgenomics.__init__\u001b[1;34m(self, name, age, hobby, lab)\u001b[0m\n\u001b[0;32m     28\u001b[0m \u001b[39mdef\u001b[39;00m \u001b[39m__init__\u001b[39m(\u001b[39mself\u001b[39m, name, age, hobby, lab):\n\u001b[1;32m---> 29\u001b[0m     \u001b[39msuper\u001b[39;49m(person)\u001b[39m.\u001b[39;49m\u001b[39m__init__\u001b[39;49m(\u001b[39mself\u001b[39;49m, name, age, hobby)\n\u001b[0;32m     30\u001b[0m     \u001b[39mself\u001b[39m\u001b[39m.\u001b[39mlab \u001b[39m=\u001b[39m lab\n",
      "\u001b[1;31mTypeError\u001b[0m: super() takes at most 2 arguments (4 given)"
     ]
    }
   ],
   "metadata": {}
  },
  {
   "cell_type": "code",
   "execution_count": 9,
   "source": [
    "print(Diego.lab)"
   ],
   "outputs": [
    {
     "output_type": "stream",
     "name": "stdout",
     "text": [
      "Protein synthesis\n"
     ]
    }
   ],
   "metadata": {}
  },
  {
   "cell_type": "code",
   "execution_count": 10,
   "source": [
    "print(Bernardo.elder)\n",
    ""
   ],
   "outputs": [
    {
     "output_type": "stream",
     "name": "stdout",
     "text": [
      "<bound method person.elder of <__main__.person object at 0x000001E21B52DA50>>\n"
     ]
    }
   ],
   "metadata": {}
  },
  {
   "cell_type": "code",
   "execution_count": 11,
   "source": [
    "Bernardo.elder()\n",
    "print(Bernardo.age)"
   ],
   "outputs": [
    {
     "output_type": "stream",
     "name": "stdout",
     "text": [
      "60\n"
     ]
    }
   ],
   "metadata": {}
  },
  {
   "cell_type": "code",
   "execution_count": 12,
   "source": [
    "print(Liam.age)"
   ],
   "outputs": [
    {
     "output_type": "stream",
     "name": "stdout",
     "text": [
      "15\n"
     ]
    }
   ],
   "metadata": {}
  },
  {
   "cell_type": "code",
   "execution_count": 13,
   "source": [
    "Liam.elder()\n",
    "print(Liam.age)\n",
    ""
   ],
   "outputs": [
    {
     "output_type": "stream",
     "name": "stdout",
     "text": [
      "60\n"
     ]
    }
   ],
   "metadata": {}
  }
 ],
 "nbformat": 4,
 "nbformat_minor": 2,
 "metadata": {
  "language_info": {
   "codemirror_mode": {
    "name": "ipython",
    "version": 3
   },
   "file_extension": ".py",
   "mimetype": "text/x-python",
   "name": "python",
   "nbconvert_exporter": "python",
   "pygments_lexer": "ipython3",
   "version": 3
  },
  "orig_nbformat": 4
 }
}